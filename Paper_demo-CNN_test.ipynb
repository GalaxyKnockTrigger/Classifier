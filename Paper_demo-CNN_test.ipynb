{
 "cells": [
  {
   "cell_type": "code",
   "execution_count": 9,
   "id": "33e046ff",
   "metadata": {},
   "outputs": [
    {
     "name": "stdout",
     "output_type": "stream",
     "text": [
      "^C\n"
     ]
    }
   ],
   "source": []
  },
  {
   "cell_type": "code",
   "execution_count": 1,
   "id": "dae56bcc",
   "metadata": {},
   "outputs": [],
   "source": [
    "import numpy as np\n",
    "import pickle\n",
    "\n",
    "import tensorflow as tf\n",
    "from tensorflow.keras import models, layers"
   ]
  },
  {
   "cell_type": "code",
   "execution_count": 2,
   "id": "8224ded3",
   "metadata": {},
   "outputs": [
    {
     "name": "stdout",
     "output_type": "stream",
     "text": [
      "--sys.version—\n",
      "3.6.8 |Anaconda, Inc.| (default, Feb 21 2019, 18:30:04) [MSC v.1916 64 bit (AMD64)]\n"
     ]
    }
   ],
   "source": [
    "import sys\n",
    "\n",
    "print(\"--sys.version—\")\n",
    "print(sys.version)"
   ]
  },
  {
   "cell_type": "code",
   "execution_count": 18,
   "id": "1f841586",
   "metadata": {},
   "outputs": [],
   "source": [
    "dataset_pre = np.load(\"dataset_pre.npy\")\n",
    "dataset_test_pre = np.load(\"dataset_test_pre.npy\")\n",
    "dataset_pre_labels = np.load(\"dataset_pre_labels.npy\")\n",
    "dataset_test_pre_labels = np.load(\"dataset_test_pre_labels.npy\")"
   ]
  },
  {
   "cell_type": "code",
   "execution_count": 6,
   "id": "901888fb",
   "metadata": {},
   "outputs": [
    {
     "name": "stdout",
     "output_type": "stream",
     "text": [
      "(46000, 16, 256, 3)\n",
      "(4600, 16, 256, 3)\n",
      "(46000,)\n",
      "(4600,)\n"
     ]
    }
   ],
   "source": [
    "print(dataset_pre.shape)\n",
    "print(dataset_test_pre.shape)\n",
    "print(dataset_pre_labels.shape)\n",
    "print(dataset_test_pre_labels.shape)"
   ]
  },
  {
   "cell_type": "code",
   "execution_count": 7,
   "id": "0fc9f561",
   "metadata": {},
   "outputs": [
    {
     "data": {
      "text/plain": [
       "array([23, 23, 23, 23, 23, 23, 23, 23, 23, 23])"
      ]
     },
     "execution_count": 7,
     "metadata": {},
     "output_type": "execute_result"
    }
   ],
   "source": [
    "dataset_pre_labels[45990:46000]"
   ]
  },
  {
   "cell_type": "code",
   "execution_count": 74,
   "id": "f462df64",
   "metadata": {},
   "outputs": [
    {
     "data": {
      "text/plain": [
       "array([ 1,  2,  3,  4,  5,  6,  7,  8,  9, 10, 11, 12, 13, 14, 15, 16, 17,\n",
       "       18, 19, 20, 21, 22, 23])"
      ]
     },
     "execution_count": 74,
     "metadata": {},
     "output_type": "execute_result"
    }
   ],
   "source": [
    "n_labels = len(np.unique(dataset_pre_labels))\n",
    "np.unique(dataset_pre_labels)"
   ]
  },
  {
   "cell_type": "code",
   "execution_count": 3,
   "id": "bf6f54eb",
   "metadata": {},
   "outputs": [],
   "source": [
    "with open('table_.pkl','rb') as f:\n",
    "    tabel = pickle.load(f)"
   ]
  },
  {
   "cell_type": "code",
   "execution_count": 4,
   "id": "f88eb73b",
   "metadata": {},
   "outputs": [
    {
     "data": {
      "text/plain": [
       "dict_items([('book', 1), ('book-holder', 2), ('coffee-machine', 3), ('laptop', 4), ('mirror', 5), ('tissue-box', 6), ('monitor', 7), ('pot', 8), ('router', 9), ('purse(hand)', 10), ('hair-dryer(hand)', 11), ('spray(hand)', 12), ('water-bottle(hand)', 13), ('medicine-bottle(hand)', 14), ('glass-jar(hand)', 15), ('paper-cup(hand)', 16), ('tumbler(hand)', 17), ('tablet-pc(hand)', 18), ('smartwatch(wrist)', 19), ('bicycle', 20), ('fire-extinguisher', 21), ('stool', 22), ('guitar(knee)', 23)])"
      ]
     },
     "execution_count": 4,
     "metadata": {},
     "output_type": "execute_result"
    }
   ],
   "source": [
    "tabel.items()"
   ]
  },
  {
   "cell_type": "code",
   "execution_count": 23,
   "id": "cc88ed34",
   "metadata": {
    "scrolled": true
   },
   "outputs": [],
   "source": [
    "train_labels = np.zeros((dataset_pre_labels.shape[0], 23))\n",
    "test_labels = np.zeros((dataset_test_pre_labels.shape[0], 23))\n",
    "for i, n in enumerate(dataset_pre_labels):\n",
    "    train_labels[n] = 1\n",
    "for i, n in enumerate(dataset_test_pre_labels):\n",
    "    test_labels[n] = 1"
   ]
  },
  {
   "cell_type": "code",
   "execution_count": 9,
   "id": "90246282",
   "metadata": {},
   "outputs": [],
   "source": [
    "from sklearn.preprocessing import MultiLabelBinarizer\n",
    "\n",
    "\n",
    "mlb = MultiLabelBinarizer()\n",
    "\n",
    "train_labels = mlb.fit_transform(np.array(dataset_pre_labels, dtype='str'))\n",
    "test_labels = mlb.fit_transform(np.array(dataset_test_pre_labels, dtype='str'))"
   ]
  },
  {
   "cell_type": "code",
   "execution_count": null,
   "id": "cff1f442",
   "metadata": {},
   "outputs": [],
   "source": []
  },
  {
   "cell_type": "code",
   "execution_count": null,
   "id": "e21e6337",
   "metadata": {},
   "outputs": [],
   "source": []
  },
  {
   "cell_type": "code",
   "execution_count": 17,
   "id": "112f9da1",
   "metadata": {},
   "outputs": [
    {
     "name": "stdout",
     "output_type": "stream",
     "text": [
      "23\n",
      "[0 0 0 0 0 0 0 0 0 0 0 0 0 0 0 0 0 1 1 0 0 1 0 0 0 0]\n",
      "[0 0 0 0 0 0 0 0 0 0 0 0 0 0 1 0 0 1 0 0 1 1 0 0 0 0]\n",
      "[0 0 0 0 0 0 0 0 0 0 0 1 0 0 0 1 0 1 0 1 0 0 0 0 0 0]\n",
      "[0 0 0 0 0 0 0 0 0 0 0 1 0 0 0 1 1 1 0 1 0 1 0 0 0 0]\n",
      "[0 0 0 0 0 0 0 1 0 0 0 0 0 0 0 0 0 1 0 1 0 1 1 0 0 0]\n",
      "[0 0 0 0 1 0 0 0 0 0 0 0 0 1 0 0 0 1 0 0 0 0 0 0 0 0]\n",
      "[0 0 0 0 1 1 0 1 0 0 0 1 0 0 1 0 0 0 0 0 0 0 0 0 0 1]\n",
      "[0 0 0 1 0 0 0 0 0 0 0 0 0 0 1 0 0 1 1 0 0 1 0 0 0 0]\n",
      "[0 0 1 0 0 0 0 1 1 1 1 1 0 0 0 0 1 0 0 1 1 1 1 0 1 0]\n",
      "[0 0 1 0 1 0 0 1 0 0 0 1 0 0 0 0 0 1 0 0 1 1 1 0 1 0]\n",
      "[0 0 1 0 1 0 1 1 0 0 1 0 0 1 1 0 0 1 0 1 0 0 0 0 0 0]\n",
      "[0 0 1 1 0 1 0 1 1 0 1 1 0 0 0 1 1 1 0 0 0 0 0 0 0 0]\n",
      "[1 1 0 1 0 0 0 1 0 1 0 1 0 1 0 0 1 0 0 1 0 1 1 0 0 0]\n",
      "[1 1 0 1 0 0 1 0 0 0 1 0 0 0 0 0 1 0 1 1 1 0 0 0 0 1]\n",
      "[1 1 0 1 0 0 1 1 0 0 1 0 0 0 0 0 1 0 1 1 1 0 1 0 0 0]\n",
      "[1 1 0 1 0 1 0 0 0 0 1 1 0 0 0 1 0 0 0 1 1 1 0 1 0 0]\n",
      "[1 1 0 1 1 0 1 1 0 0 1 0 0 0 1 1 1 0 0 1 0 1 1 0 0 0]\n",
      "[1 1 1 1 0 0 1 0 0 1 1 0 1 0 1 0 1 0 0 1 1 0 0 0 0 0]\n",
      "[1 1 1 1 0 0 1 1 0 0 1 1 0 0 0 0 1 0 0 1 0 0 0 0 0 1]\n",
      "[1 1 1 1 0 1 1 1 0 0 1 0 0 0 0 0 1 0 1 1 0 0 1 0 0 0]\n",
      "[1 1 1 1 1 0 1 1 0 0 1 0 0 0 1 0 1 1 0 1 0 1 0 1 0 0]\n",
      "[1 1 1 1 1 1 1 1 0 0 1 0 0 0 1 0 1 0 1 0 0 1 0 0 0 0]\n",
      "[1 1 1 1 1 1 1 1 0 0 1 1 0 0 1 1 1 1 0 0 0 1 0 0 0 0]\n"
     ]
    }
   ],
   "source": [
    "print(len(np.unique(train_labels, axis=0)))\n",
    "for i in np.unique(train_labels, axis=0):\n",
    "    print(i)"
   ]
  },
  {
   "cell_type": "code",
   "execution_count": 83,
   "id": "4ec4bc30",
   "metadata": {
    "scrolled": true
   },
   "outputs": [],
   "source": [
    "input_shape=(16,256,3)\n",
    "CNNmodel = models.Sequential()\n",
    "CNNmodel.add(layers.Conv2D(64, (3, 3), activation='relu', input_shape=input_shape))\n",
    "CNNmodel.add(layers.MaxPooling2D((2, 2)))\n",
    "CNNmodel.add(layers.Dropout(0.2))\n",
    "\"\"\"\n",
    "CNNmodel.add(layers.Conv2D(64, (3, 3), activation='relu'))\n",
    "CNNmodel.add(layers.MaxPooling2D((2, 2)))\n",
    "CNNmodel.add(layers.Dropout(0.2))\n",
    "CNNmodel.add(layers.Conv2D(64, (3, 3), activation='relu'))\n",
    "\"\"\"\n",
    "CNNmodel.add(layers.Flatten())\n",
    "CNNmodel.add(layers.Dense(64, activation='relu'))\n",
    "CNNmodel.add(layers.Dropout(0.2))\n",
    "CNNmodel.add(layers.Dense(32, activation='relu'))\n",
    "CNNmodel.add(layers.Dense(len(train_labels[0]), activation='softmax'))"
   ]
  },
  {
   "cell_type": "code",
   "execution_count": 84,
   "id": "6fa180f7",
   "metadata": {},
   "outputs": [
    {
     "name": "stdout",
     "output_type": "stream",
     "text": [
      "Model: \"sequential_8\"\n",
      "_________________________________________________________________\n",
      "Layer (type)                 Output Shape              Param #   \n",
      "=================================================================\n",
      "conv2d_12 (Conv2D)           (None, 14, 254, 64)       1792      \n",
      "_________________________________________________________________\n",
      "max_pooling2d_8 (MaxPooling2 (None, 7, 127, 64)        0         \n",
      "_________________________________________________________________\n",
      "dropout_14 (Dropout)         (None, 7, 127, 64)        0         \n",
      "_________________________________________________________________\n",
      "flatten_6 (Flatten)          (None, 56896)             0         \n",
      "_________________________________________________________________\n",
      "dense_18 (Dense)             (None, 64)                3641408   \n",
      "_________________________________________________________________\n",
      "dropout_15 (Dropout)         (None, 64)                0         \n",
      "_________________________________________________________________\n",
      "dense_19 (Dense)             (None, 32)                2080      \n",
      "_________________________________________________________________\n",
      "dense_20 (Dense)             (None, 26)                858       \n",
      "=================================================================\n",
      "Total params: 3,646,138\n",
      "Trainable params: 3,646,138\n",
      "Non-trainable params: 0\n",
      "_________________________________________________________________\n"
     ]
    }
   ],
   "source": [
    "\n",
    "from tensorflow.keras import optimizers\n",
    "adam = optimizers.Adam(lr = 0.001)\n",
    "CNNmodel.summary()\n",
    "CNNmodel.compile(loss = 'categorical_crossentropy', optimizer = adam, metrics = ['accuracy'])"
   ]
  },
  {
   "cell_type": "code",
   "execution_count": null,
   "id": "2e3e989e",
   "metadata": {},
   "outputs": [
    {
     "name": "stdout",
     "output_type": "stream",
     "text": [
      "Epoch 1/100\n",
      "368/368 [==============================] - 81s 221ms/step - loss: 18820057088.0000 - accuracy: 0.1014 - val_loss: 65277038592.0000 - val_accuracy: 0.0000e+00\n",
      "Epoch 2/100\n",
      "368/368 [==============================] - 80s 217ms/step - loss: 258424274944.0000 - accuracy: 0.0898 - val_loss: 458260348928.0000 - val_accuracy: 0.0000e+00\n",
      "Epoch 3/100\n",
      "368/368 [==============================] - 97s 264ms/step - loss: 1054872240128.0000 - accuracy: 0.0745 - val_loss: 1555170721792.0000 - val_accuracy: 0.0000e+00\n",
      "Epoch 4/100\n",
      "285/368 [======================>.......] - ETA: 43s - loss: 2588158459904.0000 - accuracy: 0.0659"
     ]
    }
   ],
   "source": [
    "history = CNNmodel.fit(dataset_pre, train_labels, batch_size = 100, validation_split = 0.2, epochs = 100, verbose = 1)"
   ]
  },
  {
   "cell_type": "code",
   "execution_count": 96,
   "id": "052c237d",
   "metadata": {},
   "outputs": [],
   "source": []
  },
  {
   "cell_type": "code",
   "execution_count": null,
   "id": "6300f25c",
   "metadata": {},
   "outputs": [],
   "source": []
  },
  {
   "cell_type": "code",
   "execution_count": 97,
   "id": "83b721bf",
   "metadata": {},
   "outputs": [
    {
     "data": {
      "text/plain": [
       "0.9360869565217391"
      ]
     },
     "execution_count": 97,
     "metadata": {},
     "output_type": "execute_result"
    }
   ],
   "source": [
    "from sklearn.metrics import accuracy_score\n",
    "y_pred = clf.predict(dataset_test_pre)\n",
    "\n",
    "accuracy_score(test_labels, y_pred)"
   ]
  },
  {
   "cell_type": "code",
   "execution_count": 101,
   "id": "34813135",
   "metadata": {},
   "outputs": [],
   "source": []
  },
  {
   "cell_type": "code",
   "execution_count": null,
   "id": "d854d388",
   "metadata": {},
   "outputs": [],
   "source": []
  }
 ],
 "metadata": {
  "kernelspec": {
   "display_name": "Python 3",
   "language": "python",
   "name": "python3"
  },
  "language_info": {
   "codemirror_mode": {
    "name": "ipython",
    "version": 3
   },
   "file_extension": ".py",
   "mimetype": "text/x-python",
   "name": "python",
   "nbconvert_exporter": "python",
   "pygments_lexer": "ipython3",
   "version": "3.6.8"
  }
 },
 "nbformat": 4,
 "nbformat_minor": 5
}
