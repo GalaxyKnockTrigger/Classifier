{
 "cells": [
  {
   "cell_type": "code",
   "execution_count": 1,
   "id": "63684e80",
   "metadata": {},
   "outputs": [],
   "source": [
    "import os\n",
    "import csv\n",
    "import pickle"
   ]
  },
  {
   "cell_type": "code",
   "execution_count": 2,
   "id": "190a1eb3",
   "metadata": {},
   "outputs": [],
   "source": [
    "from scipy.fftpack import fft  \n",
    "import numpy as np  \n",
    "\n",
    "import librosa\n",
    "import librosa.display\n",
    "import matplotlib.pyplot as plt\n",
    "from sklearn.preprocessing import normalize"
   ]
  },
  {
   "cell_type": "code",
   "execution_count": 3,
   "id": "a14673a3",
   "metadata": {},
   "outputs": [],
   "source": [
    "file_path = \"D:\\Capstone\"\n",
    "dataset_path = os.path.join(file_path, \"Dataset_demo\")\n",
    "dataset_path_lab = os.path.join(dataset_path, \"in-lab\")\n",
    "dataset_path_wild = os.path.join(dataset_path, \"in-wild\")"
   ]
  },
  {
   "cell_type": "code",
   "execution_count": 4,
   "id": "a405a9e9",
   "metadata": {},
   "outputs": [],
   "source": [
    "def get_dataset(lab_wild, environments, train_test):\n",
    "    if lab_wild == \"lab\":\n",
    "        data = []\n",
    "        labels = []\n",
    "        tabel = {}\n",
    "\n",
    "\n",
    "        test_folder_list = os.listdir(dataset_path_lab)\n",
    "\n",
    "        for test_folder_name in test_folder_list:\n",
    "            print(test_folder_name)\n",
    "            temp_path = os.path.join(dataset_path_lab, test_folder_name)\n",
    "\n",
    "            for env in environments:\n",
    "                print(env)\n",
    "                path_dir = os.path.join(temp_path, env+\"_\"+train_test)\n",
    "\n",
    "                file_list = os.listdir(path_dir)\n",
    "                i=0\n",
    "                for file_name in file_list:\n",
    "                    if i%1000 == 0:\n",
    "                        print(i, \"/\", len(file_list))\n",
    "                    csv_name = path_dir + '/' + file_name\n",
    "                    f = open(csv_name, 'r', encoding='utf-8')\n",
    "                    rdr = csv.reader(f)\n",
    "\n",
    "                    temp = file_name.split(\"_\")\n",
    "                    temp_name = temp[0].split(\"-\")\n",
    "                    for line in rdr:\n",
    "                        try:\n",
    "                            data.append([float(l) for l in line[:-1]])\n",
    "                        except:\n",
    "                            print(line)\n",
    "                            a=input()\n",
    "                            \n",
    "                        labels.append(int(temp_name[0]))\n",
    "                        if not \"-\".join(temp_name[1:]) in tabel:\n",
    "                            tabel[\"-\".join(temp_name[1:])] = int(temp_name[0])\n",
    "                    i+=1\n",
    "        return data, labels, tabel"
   ]
  },
  {
   "cell_type": "code",
   "execution_count": 5,
   "id": "ed197616",
   "metadata": {
    "scrolled": true
   },
   "outputs": [
    {
     "name": "stdout",
     "output_type": "stream",
     "text": [
      "P1\n",
      "quiet\n",
      "0 / 2300\n",
      "1000 / 2300\n",
      "2000 / 2300\n",
      "P10\n",
      "quiet\n",
      "0 / 2300\n",
      "1000 / 2300\n",
      "2000 / 2300\n",
      "P11\n",
      "quiet\n",
      "0 / 2300\n",
      "1000 / 2300\n",
      "2000 / 2300\n",
      "P12\n",
      "quiet\n",
      "0 / 2300\n",
      "1000 / 2300\n",
      "2000 / 2300\n",
      "P13\n",
      "quiet\n",
      "0 / 2300\n",
      "1000 / 2300\n",
      "2000 / 2300\n",
      "P14\n",
      "quiet\n",
      "0 / 2300\n",
      "1000 / 2300\n",
      "2000 / 2300\n",
      "P15\n",
      "quiet\n",
      "0 / 2300\n",
      "1000 / 2300\n",
      "2000 / 2300\n",
      "P16\n",
      "quiet\n",
      "0 / 2300\n",
      "1000 / 2300\n",
      "2000 / 2300\n",
      "P17\n",
      "quiet\n",
      "0 / 2300\n",
      "1000 / 2300\n",
      "2000 / 2300\n",
      "P18\n",
      "quiet\n",
      "0 / 2300\n",
      "1000 / 2300\n",
      "2000 / 2300\n",
      "P19\n",
      "quiet\n",
      "0 / 2300\n",
      "1000 / 2300\n",
      "2000 / 2300\n",
      "P2\n",
      "quiet\n",
      "0 / 2300\n",
      "1000 / 2300\n",
      "2000 / 2300\n",
      "P20\n",
      "quiet\n",
      "0 / 2300\n",
      "1000 / 2300\n",
      "2000 / 2300\n",
      "P3\n",
      "quiet\n",
      "0 / 2300\n",
      "1000 / 2300\n",
      "2000 / 2300\n",
      "P4\n",
      "quiet\n",
      "0 / 2300\n",
      "1000 / 2300\n",
      "2000 / 2300\n",
      "P5\n",
      "quiet\n",
      "0 / 2300\n",
      "1000 / 2300\n",
      "2000 / 2300\n",
      "P6\n",
      "quiet\n",
      "0 / 2300\n",
      "1000 / 2300\n",
      "2000 / 2300\n",
      "P7\n",
      "quiet\n",
      "0 / 2300\n",
      "1000 / 2300\n",
      "2000 / 2300\n",
      "P8\n",
      "quiet\n",
      "0 / 2300\n",
      "1000 / 2300\n",
      "2000 / 2300\n",
      "P9\n",
      "quiet\n",
      "0 / 2300\n",
      "1000 / 2300\n",
      "2000 / 2300\n"
     ]
    }
   ],
   "source": [
    "dataset, labels, tabel=get_dataset(lab_wild=\"lab\", environments=['quiet'], train_test=\"train\")\n"
   ]
  },
  {
   "cell_type": "code",
   "execution_count": 6,
   "id": "08b2f700",
   "metadata": {
    "scrolled": true
   },
   "outputs": [
    {
     "data": {
      "text/plain": [
       "46000"
      ]
     },
     "execution_count": 6,
     "metadata": {},
     "output_type": "execute_result"
    }
   ],
   "source": [
    "len(dataset)"
   ]
  },
  {
   "cell_type": "code",
   "execution_count": 7,
   "id": "f2c54e8a",
   "metadata": {
    "scrolled": true
   },
   "outputs": [],
   "source": [
    "with open('table_.pkl','wb') as f:\n",
    "    pickle.dump(tabel,f)"
   ]
  },
  {
   "cell_type": "code",
   "execution_count": 8,
   "id": "047cb38a",
   "metadata": {},
   "outputs": [
    {
     "name": "stdout",
     "output_type": "stream",
     "text": [
      "5\n"
     ]
    }
   ],
   "source": [
    "\n",
    "x = np.array([[4.0, 2.0, 1.0, -3.0, 1.5], [4.0, 2.0, 1.0, -3.0, 1.5]])  \n",
    "y = fft(x)  \n",
    "print(len(y[0]))"
   ]
  },
  {
   "cell_type": "code",
   "execution_count": 9,
   "id": "f78d894a",
   "metadata": {},
   "outputs": [
    {
     "data": {
      "text/plain": [
       "'3.6.8 |Anaconda, Inc.| (default, Feb 21 2019, 18:30:04) [MSC v.1916 64 bit (AMD64)]'"
      ]
     },
     "execution_count": 9,
     "metadata": {},
     "output_type": "execute_result"
    }
   ],
   "source": [
    "import sys\n",
    "\n",
    "sys.version"
   ]
  },
  {
   "cell_type": "code",
   "execution_count": null,
   "id": "aec01d01",
   "metadata": {},
   "outputs": [],
   "source": []
  },
  {
   "cell_type": "code",
   "execution_count": 10,
   "id": "1759956e",
   "metadata": {},
   "outputs": [],
   "source": [
    "\n",
    "test = dataset[0][:4096]\n",
    "test = np.array(test)"
   ]
  },
  {
   "cell_type": "code",
   "execution_count": 11,
   "id": "623f184f",
   "metadata": {},
   "outputs": [
    {
     "data": {
      "image/png": "[encoded data removed]",
      "text/plain": [
       "<Figure size 432x288 with 10 Axes>"
      ]
     },
     "metadata": {
      "needs_background": "light"
     },
     "output_type": "display_data"
    }
   ],
   "source": [
    "for i in range(10):\n",
    "    plt.subplot(10, 1, i+1)                # nrows=2, ncols=1, index=1\n",
    "    test = dataset[i+1][:4096]\n",
    "    test = np.array(test)\n",
    "    f = np.linspace(0, 4096, 4096)\n",
    "    \n",
    "    plt.plot(f, test, 'o-')\n",
    "    plt.title('Graph'+str(i))\n",
    "plt.show()\n"
   ]
  },
  {
   "cell_type": "code",
   "execution_count": 12,
   "id": "20cfd554",
   "metadata": {},
   "outputs": [
    {
     "data": {
      "image/png": "[encoded data removed]",
      "text/plain": [
       "<Figure size 432x288 with 1 Axes>"
      ]
     },
     "metadata": {
      "needs_background": "light"
     },
     "output_type": "display_data"
    }
   ],
   "source": [
    "\n",
    "f = np.linspace(0, 4096, 4096)\n",
    "\n",
    "plt.plot(f, test)\n",
    "\n",
    "plt.grid()\n",
    " \n",
    "plt.show()"
   ]
  },
  {
   "cell_type": "code",
   "execution_count": 13,
   "id": "e3581646",
   "metadata": {
    "scrolled": true
   },
   "outputs": [
    {
     "data": {
      "image/png": "[encoded data removed]",
      "text/plain": [
       "<Figure size 432x288 with 1 Axes>"
      ]
     },
     "metadata": {
      "needs_background": "light"
     },
     "output_type": "display_data"
    }
   ],
   "source": [
    "fs = 48000\n",
    "\n",
    "y = fft(test)/len(test)\n",
    "length = 2049\n",
    "f = np.linspace(0, fs/2, length)\n",
    "\n",
    "plt.stem(f, abs(y[:length]))\n",
    "\n",
    "plt.xlim(0, 500)\n",
    "plt.ylim(0, 500)\n",
    "plt.grid()\n",
    " \n",
    "plt.show()"
   ]
  },
  {
   "cell_type": "code",
   "execution_count": 14,
   "id": "d047af87",
   "metadata": {
    "scrolled": true
   },
   "outputs": [
    {
     "name": "stdout",
     "output_type": "stream",
     "text": [
      "[[-1.54694279 -1.54694279 -1.54694279 ... -0.60393555 -0.60393555\n",
      "  -0.60393555]\n",
      " [-0.19121199 -0.19121199 -0.19121199 ... -0.30900204 -0.30900204\n",
      "  -0.30900204]\n",
      " [ 0.05255713  0.05255713  0.05255713 ...  0.11477618  0.11477618\n",
      "   0.11477618]\n",
      " ...\n",
      " [ 0.05583703  0.05583703  0.05583703 ... -0.02092392 -0.02092392\n",
      "  -0.02092392]\n",
      " [-0.01508033 -0.01508033 -0.01508033 ...  0.06767169  0.06767169\n",
      "   0.06767169]\n",
      " [ 0.0224003   0.0224003   0.0224003  ...  0.16592339  0.16592339\n",
      "   0.16592339]]\n",
      "(16, 65)\n"
     ]
    },
    {
     "name": "stderr",
     "output_type": "stream",
     "text": [
      "C:\\Users\\hyonj\\anaconda3\\envs\\capstone\\lib\\site-packages\\ipykernel_launcher.py:3: FutureWarning: Pass y=[  25.    0.  -25. ...  -92. -116. -131.] as keyword args. From version 0.10 passing these as positional arguments will result in an error\n",
      "  This is separate from the ipykernel package so we can avoid doing imports until\n"
     ]
    },
    {
     "data": {
      "image/png": "[encoded data removed]",
      "text/plain": [
       "<Figure size 864x288 with 2 Axes>"
      ]
     },
     "metadata": {
      "needs_background": "light"
     },
     "output_type": "display_data"
    }
   ],
   "source": [
    "sample_rate=48000\n",
    "\n",
    "S = librosa.feature.melspectrogram(test, sr=sample_rate, n_fft=2048, n_mels=128, hop_length=64, win_length=None)\n",
    "\n",
    "log_S = librosa.power_to_db(S, ref=np.max)\n",
    "\n",
    "mfcc = librosa.feature.mfcc(S=log_S, sr=sample_rate, n_mfcc=16, n_fft=64, hop_length=64, win_length=None)\n",
    "\n",
    "delta2_mfcc = librosa.feature.delta(mfcc, order=2)\n",
    "print(delta2_mfcc)\n",
    "\"\"\"\n",
    "\n",
    "S = librosa.feature.melspectrogram(test, sr=sample_rate, n_mels=128)\n",
    "log_S = librosa.power_to_db(S, ref=np.max)\n",
    "mfcc = librosa.feature.mfcc(S=log_S, n_mfcc=13)\n",
    "\n",
    "delta2_mfcc = librosa.feature.delta(mfcc, order=2)\n",
    "\n",
    "\"\"\"\n",
    "\n",
    "\n",
    "print(delta2_mfcc.shape)\n",
    "\n",
    "#13*8\n",
    "\n",
    "plt.figure(figsize=(12, 4))\n",
    "librosa.display.specshow(delta2_mfcc)\n",
    "plt.ylabel('MFCC coeffs')\n",
    "plt.xlabel('Time')\n",
    "plt.title('MFCC')\n",
    "plt.colorbar()\n",
    "plt.tight_layout()"
   ]
  },
  {
   "cell_type": "code",
   "execution_count": null,
   "id": "c049cb38",
   "metadata": {},
   "outputs": [],
   "source": []
  },
  {
   "cell_type": "code",
   "execution_count": 15,
   "id": "63c3e8bb",
   "metadata": {},
   "outputs": [],
   "source": [
    "##"
   ]
  },
  {
   "cell_type": "code",
   "execution_count": 16,
   "id": "2471d458",
   "metadata": {
    "scrolled": true
   },
   "outputs": [
    {
     "name": "stdout",
     "output_type": "stream",
     "text": [
      "P1\n",
      "quiet\n",
      "0 / 230\n",
      "P10\n",
      "quiet\n",
      "0 / 230\n",
      "P11\n",
      "quiet\n",
      "0 / 230\n",
      "P12\n",
      "quiet\n",
      "0 / 230\n",
      "P13\n",
      "quiet\n",
      "0 / 230\n",
      "P14\n",
      "quiet\n",
      "0 / 230\n",
      "P15\n",
      "quiet\n",
      "0 / 230\n",
      "P16\n",
      "quiet\n",
      "0 / 230\n",
      "P17\n",
      "quiet\n",
      "0 / 230\n",
      "P18\n",
      "quiet\n",
      "0 / 230\n",
      "P19\n",
      "quiet\n",
      "0 / 230\n",
      "P2\n",
      "quiet\n",
      "0 / 230\n",
      "P20\n",
      "quiet\n",
      "0 / 230\n",
      "P3\n",
      "quiet\n",
      "0 / 230\n",
      "P4\n",
      "quiet\n",
      "0 / 230\n",
      "P5\n",
      "quiet\n",
      "0 / 230\n",
      "P6\n",
      "quiet\n",
      "0 / 230\n",
      "P7\n",
      "quiet\n",
      "0 / 230\n",
      "P8\n",
      "quiet\n",
      "0 / 230\n",
      "P9\n",
      "quiet\n",
      "0 / 230\n"
     ]
    }
   ],
   "source": [
    "test_dataset, test_labels, test_tabel=get_dataset(lab_wild=\"lab\", environments=['quiet'], train_test=\"test\")\n"
   ]
  },
  {
   "cell_type": "code",
   "execution_count": null,
   "id": "39b2fcde",
   "metadata": {},
   "outputs": [],
   "source": []
  },
  {
   "cell_type": "code",
   "execution_count": null,
   "id": "16278b96",
   "metadata": {},
   "outputs": [],
   "source": []
  },
  {
   "cell_type": "code",
   "execution_count": 17,
   "id": "13979cd1",
   "metadata": {},
   "outputs": [
    {
     "data": {
      "text/plain": [
       "4600"
      ]
     },
     "execution_count": 17,
     "metadata": {},
     "output_type": "execute_result"
    }
   ],
   "source": [
    "len(test_dataset)"
   ]
  },
  {
   "cell_type": "code",
   "execution_count": 18,
   "id": "4c898712",
   "metadata": {},
   "outputs": [],
   "source": [
    "import warnings\n",
    "warnings.simplefilter(action='ignore', category=FutureWarning)"
   ]
  },
  {
   "cell_type": "code",
   "execution_count": 22,
   "id": "4352c894",
   "metadata": {},
   "outputs": [],
   "source": [
    "def padding(array, xx, yy):\n",
    "    \"\"\"\n",
    "    :param array: numpy array\n",
    "    :param xx: desired height\n",
    "    :param yy: desirex width\n",
    "    :return: padded array\n",
    "    \"\"\"\n",
    "    h = array.shape[0]\n",
    "    w = array.shape[1]\n",
    "    a = max((xx - h) // 2,0)\n",
    "    aa = max(0,xx - a - h)\n",
    "    b = max(0,(yy - w) // 2)\n",
    "    bb = max(yy - b - w,0)\n",
    "    return np.pad(array, pad_width=((a, aa), (b, bb)), mode='constant')"
   ]
  },
  {
   "cell_type": "code",
   "execution_count": 36,
   "id": "c65fc1f8",
   "metadata": {},
   "outputs": [
    {
     "data": {
      "image/png": "[encoded data removed]",
      "text/plain": [
       "<Figure size 864x288 with 2 Axes>"
      ]
     },
     "metadata": {
      "needs_background": "light"
     },
     "output_type": "display_data"
    }
   ],
   "source": [
    "\n",
    "d = np.array(test)\n",
    "y_cut = d[:4096]\n",
    "max_size=256 #my max audio file feature width\n",
    "sample_rate=48000\n",
    "\n",
    "stft = np.abs(librosa.stft(y_cut, n_fft=31, hop_length= 16))\n",
    "\n",
    "plt.figure(figsize=(12, 4))\n",
    "librosa.display.specshow(stft)\n",
    "plt.ylabel('MFCC coeffs')\n",
    "plt.xlabel('Time')\n",
    "plt.title('MFCC')\n",
    "plt.colorbar()\n",
    "plt.tight_layout()\n",
    "\n",
    "plt.tight_layout()"
   ]
  },
  {
   "cell_type": "code",
   "execution_count": 38,
   "id": "cf3fccf6",
   "metadata": {},
   "outputs": [
    {
     "data": {
      "image/png": "[encoded data removed]",
      "text/plain": [
       "<Figure size 864x288 with 2 Axes>"
      ]
     },
     "metadata": {
      "needs_background": "light"
     },
     "output_type": "display_data"
    }
   ],
   "source": [
    "\n",
    "MFCCs = librosa.feature.mfcc(y_cut, n_fft=31, hop_length=16,n_mfcc=16)\n",
    "          \n",
    "plt.figure(figsize=(12, 4))\n",
    "librosa.display.specshow(MFCCs)\n",
    "plt.ylabel('MFCC coeffs')\n",
    "plt.xlabel('Time')\n",
    "plt.title('MFCC')\n",
    "plt.colorbar()\n",
    "plt.tight_layout()\n",
    "\n",
    "plt.tight_layout()"
   ]
  },
  {
   "cell_type": "code",
   "execution_count": 61,
   "id": "00f5ce35",
   "metadata": {},
   "outputs": [
    {
     "name": "stdout",
     "output_type": "stream",
     "text": [
      "[[3562.13560849 3326.2878452  3704.64552484 3812.00368344 3920.58114453\n",
      "  3589.64830369 3069.06374938 2650.79033475 2702.40718673]]\n"
     ]
    },
    {
     "data": {
      "image/png": "[encoded data removed]",
      "text/plain": [
       "<Figure size 432x288 with 1 Axes>"
      ]
     },
     "metadata": {
      "needs_background": "light"
     },
     "output_type": "display_data"
    }
   ],
   "source": [
    "    \n",
    "spec_centroid = librosa.feature.spectral_centroid(y=y_cut, sr=sample_rate)\n",
    "print(spec_centroid)\n",
    "plt.plot(spec_centroid[0])\n",
    "plt.show()"
   ]
  },
  {
   "cell_type": "code",
   "execution_count": 64,
   "id": "a9f7ba63",
   "metadata": {},
   "outputs": [
    {
     "name": "stdout",
     "output_type": "stream",
     "text": [
      "[[0.97359604 0.95460922 0.78229908 0.93851496 0.76900707 0.88787851\n",
      "  0.92292957 0.34035624 0.32967759]\n",
      " [1.         0.89644876 0.54906415 0.91352977 1.         1.\n",
      "  0.9113437  0.31888665 0.43202563]\n",
      " [0.96432713 0.79517428 0.38659523 0.79383533 0.99294558 0.94034437\n",
      "  0.84597869 0.36718106 0.52023598]\n",
      " [0.90979041 0.65592851 0.27182117 0.51543223 0.67713042 0.67024293\n",
      "  0.72239364 0.59385485 0.68676868]\n",
      " [0.935318   0.59338418 0.22947847 0.29083416 0.3744029  0.45273748\n",
      "  0.65550929 0.88664303 0.91160553]\n",
      " [0.87563744 0.56820781 0.26379177 0.21657775 0.2524556  0.36999592\n",
      "  0.54452019 0.92889615 0.9486004 ]\n",
      " [0.86365473 0.61502567 0.34408045 0.22567255 0.21712005 0.35532697\n",
      "  0.44063784 1.         0.98877808]\n",
      " [0.83455593 0.6327936  0.41680765 0.2825016  0.21203636 0.36809082\n",
      "  0.42227634 0.99868233 1.        ]\n",
      " [0.83723929 0.6459026  0.5153207  0.43300082 0.25465762 0.42682936\n",
      "  0.51226732 0.68803743 0.86087036]\n",
      " [0.91022715 0.78252076 0.75196167 0.70408112 0.3578964  0.56424673\n",
      "  0.73460003 0.38235073 0.59891156]\n",
      " [0.96224185 0.96476185 1.         0.95094048 0.48772416 0.7113816\n",
      "  0.95987324 0.3971277  0.36155475]\n",
      " [0.95948335 1.         0.9991125  1.         0.59466256 0.79568033\n",
      "  1.         0.40690188 0.29764223]]\n"
     ]
    },
    {
     "data": {
      "image/png": "[encoded data removed]",
      "text/plain": [
       "<Figure size 864x288 with 2 Axes>"
      ]
     },
     "metadata": {
      "needs_background": "light"
     },
     "output_type": "display_data"
    }
   ],
   "source": [
    "\n",
    "chroma_stft = librosa.feature.chroma_stft(y=y_cut, sr=sample_rate)\n",
    "print(chroma_stft)\n",
    "\n",
    "plt.figure(figsize=(12, 4))\n",
    "librosa.display.specshow(chroma_stft)\n",
    "plt.ylabel('MFCC coeffs')\n",
    "plt.xlabel('Time')\n",
    "plt.title('MFCC')\n",
    "plt.colorbar()\n",
    "plt.tight_layout()\n",
    "\n",
    "plt.tight_layout()"
   ]
  },
  {
   "cell_type": "code",
   "execution_count": 63,
   "id": "26aed0df",
   "metadata": {},
   "outputs": [
    {
     "name": "stdout",
     "output_type": "stream",
     "text": [
      "[[5397.85372579 5265.66473833 5237.69820702 5114.4765188  5309.95145446\n",
      "  5086.19907305 4847.99790252 4741.1227629  4868.41452379]]\n"
     ]
    },
    {
     "data": {
      "image/png": "[encoded data removed]",
      "text/plain": [
       "<Figure size 432x288 with 1 Axes>"
      ]
     },
     "metadata": {
      "needs_background": "light"
     },
     "output_type": "display_data"
    }
   ],
   "source": [
    "\n",
    "spec_bw = librosa.feature.spectral_bandwidth(y=y_cut, sr=sample_rate)\n",
    "print(spec_bw)\n",
    "plt.plot(spec_bw[0])\n",
    "plt.show()\n"
   ]
  },
  {
   "cell_type": "code",
   "execution_count": 72,
   "id": "84985c9b",
   "metadata": {},
   "outputs": [
    {
     "data": {
      "image/png": "[encoded data removed]",
      "text/plain": [
       "<Figure size 864x288 with 2 Axes>"
      ]
     },
     "metadata": {
      "needs_background": "light"
     },
     "output_type": "display_data"
    }
   ],
   "source": [
    "\n",
    "#Now the padding part\n",
    "max_size=10 #my max audio file feature width\n",
    "image = np.array([padding(normalize(spec_bw),1, max_size)]).reshape(1,max_size)\n",
    "image = np.append(image,padding(normalize(spec_centroid),1, max_size), axis=0) \n",
    "#repeat the padded spec_bw,spec_centroid and chroma stft until they are stft and MFCC-sized\n",
    "\n",
    "image = np.append(image,padding(normalize(spec_bw),1, max_size), axis=0)\n",
    "image = np.append(image, padding(normalize(spec_centroid),1, max_size), axis=0)\n",
    "image = np.append(image, padding(normalize(chroma_stft),12, max_size), axis=0)          \n",
    "plt.figure(figsize=(12, 4))\n",
    "librosa.display.specshow(image)\n",
    "plt.ylabel('MFCC coeffs')\n",
    "plt.xlabel('Time')\n",
    "plt.title('MFCC')\n",
    "plt.colorbar()\n",
    "plt.tight_layout()\n",
    "\n",
    "plt.tight_layout()"
   ]
  },
  {
   "cell_type": "code",
   "execution_count": 53,
   "id": "38db977d",
   "metadata": {},
   "outputs": [
    {
     "data": {
      "image/png": "[encoded data removed]",
      "text/plain": [
       "<Figure size 864x288 with 2 Axes>"
      ]
     },
     "metadata": {
      "needs_background": "light"
     },
     "output_type": "display_data"
    }
   ],
   "source": [
    "\n",
    "image=np.dstack((image,np.abs(stft)))\n",
    "plt.figure(figsize=(12, 4))\n",
    "librosa.display.specshow(image[:,:,1])\n",
    "plt.ylabel('MFCC coeffs')\n",
    "plt.xlabel('Time')\n",
    "plt.title('MFCC')\n",
    "plt.colorbar()\n",
    "plt.tight_layout()\n",
    "#librosa.display.specshow(librosa.feature.mfcc(y_cut, n_fft=128, hop_length=32, win_length=32,n_mfcc=8))\n",
    "#librosa.display.specshow(librosa.stft(y_cut, n_fft=128, hop_length= 32))\n",
    "#plt.plot(spec_bw[0])\n",
    "#plt.plot(spec_centroid[0])\n",
    "#plt.plot(stft[0])\n",
    "\n",
    "#plt.colorbar()\n",
    "plt.tight_layout()\n",
    "#librosa.display.specshow(librosa.stft(y_cut, n_fft=2048, hop_length= 255))"
   ]
  },
  {
   "cell_type": "code",
   "execution_count": 54,
   "id": "cb1fe6b3",
   "metadata": {},
   "outputs": [
    {
     "data": {
      "image/png": "[encoded data removed]",
      "text/plain": [
       "<Figure size 864x288 with 2 Axes>"
      ]
     },
     "metadata": {
      "needs_background": "light"
     },
     "output_type": "display_data"
    }
   ],
   "source": [
    "\n",
    "image=np.dstack((image,MFCCs))\n",
    "plt.figure(figsize=(12, 4))\n",
    "librosa.display.specshow(image[:,:,2])\n",
    "plt.ylabel('MFCC coeffs')\n",
    "plt.xlabel('Time')\n",
    "plt.title('MFCC')\n",
    "plt.colorbar()\n",
    "plt.tight_layout()\n",
    "#librosa.display.specshow(librosa.feature.mfcc(y_cut, n_fft=128, hop_length=32, win_length=32,n_mfcc=8))\n",
    "#librosa.display.specshow(librosa.stft(y_cut, n_fft=128, hop_length= 32))\n",
    "#plt.plot(spec_bw[0])\n",
    "#plt.plot(spec_centroid[0])\n",
    "#plt.plot(stft[0])\n",
    "\n",
    "#plt.colorbar()\n",
    "plt.tight_layout()"
   ]
  },
  {
   "cell_type": "code",
   "execution_count": 48,
   "id": "f31fd905",
   "metadata": {},
   "outputs": [
    {
     "name": "stdout",
     "output_type": "stream",
     "text": [
      "(16, 256, 3)\n",
      "(8, 256)\n",
      "(8, 256)\n"
     ]
    },
    {
     "name": "stderr",
     "output_type": "stream",
     "text": [
      "C:\\Users\\hyonj\\anaconda3\\envs\\capstone\\lib\\site-packages\\librosa\\util\\decorators.py:88: UserWarning: Empty filters detected in mel frequency basis. Some channels will produce empty responses. Try increasing your sampling rate (and fmax) or reducing n_mels.\n",
      "  return f(*args, **kwargs)\n"
     ]
    },
    {
     "data": {
      "image/png": "[encoded data removed]",
      "text/plain": [
       "<Figure size 864x288 with 2 Axes>"
      ]
     },
     "metadata": {
      "needs_background": "light"
     },
     "output_type": "display_data"
    }
   ],
   "source": [
    "\n",
    "print(image.shape)\n",
    "print(librosa.feature.mfcc(y_cut, n_fft=15, hop_length=16,n_mfcc=8).shape)\n",
    "print(np.abs(librosa.stft(y_cut, n_fft=15, hop_length= 16)).shape)\n",
    "\n",
    "plt.figure(figsize=(12, 4))\n",
    "librosa.display.specshow(image[0])\n",
    "plt.ylabel('MFCC coeffs')\n",
    "plt.xlabel('Time')\n",
    "plt.title('MFCC')\n",
    "plt.colorbar()\n",
    "plt.tight_layout()\n",
    "#librosa.display.specshow(librosa.feature.mfcc(y_cut, n_fft=128, hop_length=32, win_length=32,n_mfcc=8))\n",
    "#librosa.display.specshow(librosa.stft(y_cut, n_fft=128, hop_length= 32))\n",
    "#plt.plot(spec_bw[0])\n",
    "#plt.plot(spec_centroid[0])\n",
    "#plt.plot(stft[0])\n",
    "\n",
    "#plt.colorbar()\n",
    "plt.tight_layout()\n",
    "#librosa.display.specshow(librosa.stft(y_cut, n_fft=2048, hop_length= 255))"
   ]
  },
  {
   "cell_type": "code",
   "execution_count": 60,
   "id": "a3558207",
   "metadata": {},
   "outputs": [],
   "source": [
    "def generate_features(d):\n",
    "    d = np.array(d)\n",
    "    y_cut = d[:4096]\n",
    "    max_size=4096 #my max audio file feature width\n",
    "    sample_rate=48000\n",
    "\n",
    "    stft = padding(np.abs(librosa.stft(y_cut, n_fft=255, hop_length= 512)), 128, max_size)\n",
    "    MFCCs = padding(librosa.feature.mfcc(y_cut, n_fft=255, hop_length=512,n_mfcc=128),128,max_size)\n",
    "    spec_centroid = librosa.feature.spectral_centroid(y=y_cut, sr=sample_rate)\n",
    "    chroma_stft = librosa.feature.chroma_stft(y=y_cut, sr=sample_rate)\n",
    "    spec_bw = librosa.feature.spectral_bandwidth(y=y_cut, sr=sample_rate)\n",
    "    #Now the padding part\n",
    "    image = np.array([padding(normalize(spec_bw),1, max_size)]).reshape(1,max_size)\n",
    "    image = np.append(image,padding(normalize(spec_centroid),1, max_size), axis=0) \n",
    "    #repeat the padded spec_bw,spec_centroid and chroma stft until they are stft and MFCC-sized\n",
    "    for i in range(0,9):\n",
    "        image = np.append(image,padding(normalize(spec_bw),1, max_size), axis=0)\n",
    "        image = np.append(image, padding(normalize(spec_centroid),1, max_size), axis=0)\n",
    "        image = np.append(image, padding(normalize(chroma_stft),12, max_size), axis=0)\n",
    "    image=np.dstack((image,np.abs(stft)))\n",
    "    image=np.dstack((image,MFCCs))\n",
    "    return image\n",
    "\n",
    "def get_mfccs(data):\n",
    "    sample_rate=48000\n",
    "\n",
    "    S = librosa.feature.melspectrogram(data, sr=sample_rate, n_fft=2048, n_mels=128, hop_length=64, win_length=None)\n",
    "\n",
    "    log_S = librosa.power_to_db(S, ref=np.max)\n",
    "\n",
    "    mfcc = librosa.feature.mfcc(S=log_S, sr=sample_rate, n_mfcc=16, n_fft=64, hop_length=64, win_length=None)\n",
    "\n",
    "    delta2_mfcc = librosa.feature.delta(mfcc, order=2)\n",
    "    \n",
    "    return delta2_mfcc\n",
    "\n",
    "def get_features(d):\n",
    "    d = np.array(d)\n",
    "    dataset_sound = d[:4096]\n",
    "    dataset_acc_x = d[4096:4127]\n",
    "    dataset_acc_y = d[4128:4159]\n",
    "    dataset_acc_z = d[4160:4191]\n",
    "    dataset_gyr_x = d[4192:4223]\n",
    "    dataset_gyr_y = d[4224:4255]\n",
    "    dataset_gyr_z = d[4256:4287]\n",
    "    \n",
    "    dataset_sound_mag = fft(dataset_sound)\n",
    "    dataset_sound_mag = abs(dataset_sound_mag[:2049])\n",
    "    if 0 in dataset_sound_mag:\n",
    "        dataset_sound_mag = np.where(dataset_sound_mag==0, 0.0000001, dataset_sound_mag)\n",
    "    dataset_sound_mag_log = np.log(dataset_sound_mag)\n",
    "    \n",
    "    dataset_mfccs = get_mfccs(dataset_sound).flatten()\n",
    "    \n",
    "    dataset_acc_x = np.pad(dataset_acc_x, ((0, 224)), 'constant')\n",
    "    dataset_acc_x_mag = abs(fft(dataset_acc_x))\n",
    "    \n",
    "    dataset_gyr_z = np.pad(dataset_gyr_z, ((0, 224)), 'constant')\n",
    "    dataset_gyr_z_mag = abs(fft(dataset_gyr_z))\n",
    "    \"\"\"\n",
    "    print(dataset_sound_mag)\n",
    "    print(dataset_sound_mag_log.dtype)\n",
    "    print(dataset_mfccs.dtype)\n",
    "    print(dataset_acc_x_mag.dtype)\n",
    "    print(dataset_gyr_z_mag.dtype)\n",
    "    \"\"\"\n",
    "    return np.concatenate ((dataset_sound_mag, dataset_sound_mag_log, dataset_mfccs, dataset_acc_x_mag, dataset_gyr_z_mag))"
   ]
  },
  {
   "cell_type": "code",
   "execution_count": 28,
   "id": "15943b68",
   "metadata": {
    "scrolled": true
   },
   "outputs": [
    {
     "name": "stdout",
     "output_type": "stream",
     "text": [
      "(16, 256, 3)\n",
      "(8, 256)\n",
      "(8, 256)\n"
     ]
    },
    {
     "name": "stderr",
     "output_type": "stream",
     "text": [
      "C:\\Users\\hyonj\\AppData\\Local\\Temp\\ipykernel_23196\\1624825135.py:7: FutureWarning: Pass y=[-88. -88. -88. ... 236. 250. 272.] as keyword args. From version 0.10 passing these as positional arguments will result in an error\n",
      "  MFCCs = librosa.feature.mfcc(y_cut, n_fft=31, hop_length=16,n_mfcc=16)\n",
      "C:\\Users\\hyonj\\anaconda3\\lib\\site-packages\\librosa\\util\\decorators.py:88: UserWarning: Empty filters detected in mel frequency basis. Some channels will produce empty responses. Try increasing your sampling rate (and fmax) or reducing n_mels.\n",
      "  return f(*args, **kwargs)\n",
      "C:\\Users\\hyonj\\AppData\\Local\\Temp\\ipykernel_23196\\1624825135.py:23: FutureWarning: Pass y=[-88. -88. -88. ... 236. 250. 272.] as keyword args. From version 0.10 passing these as positional arguments will result in an error\n",
      "  print(librosa.feature.mfcc(y_cut, n_fft=15, hop_length=16,n_mfcc=8).shape)\n",
      "C:\\Users\\hyonj\\anaconda3\\lib\\site-packages\\librosa\\util\\decorators.py:88: UserWarning: Empty filters detected in mel frequency basis. Some channels will produce empty responses. Try increasing your sampling rate (and fmax) or reducing n_mels.\n",
      "  return f(*args, **kwargs)\n"
     ]
    },
    {
     "data": {
      "image/png": "[encoded data removed]",
      "text/plain": [
       "<Figure size 432x288 with 1 Axes>"
      ]
     },
     "metadata": {
      "needs_background": "light"
     },
     "output_type": "display_data"
    }
   ],
   "source": []
  },
  {
   "cell_type": "code",
   "execution_count": 185,
   "id": "2d5b23e0",
   "metadata": {},
   "outputs": [],
   "source": [
    "def generate_custom_features(y_cut):\n",
    "\n",
    "    d = np.array(y_cut)\n",
    "    y_cut = d[:4096]\n",
    "    max_size=256 #my max audio file feature width\n",
    "    sample_rate=48000\n",
    "\n",
    "    stft = np.abs(librosa.stft(y_cut, n_fft=31, hop_length= 16))\n",
    "    MFCCs = librosa.feature.mfcc(y_cut, n_fft=31, hop_length=16,n_mfcc=16)\n",
    "\n",
    "    spec_centroid = librosa.feature.spectral_centroid(y=y_cut, sr=sample_rate)\n",
    "    chroma_stft = librosa.feature.chroma_stft(y=y_cut, sr=sample_rate)\n",
    "    spec_bw = librosa.feature.spectral_bandwidth(y=y_cut, sr=sample_rate)\n",
    "    #Now the padding part\n",
    "    image = np.array([padding(normalize(spec_bw),1, max_size)]).reshape(1,max_size)\n",
    "    image = np.append(image,padding(normalize(spec_centroid),1, max_size), axis=0) \n",
    "    #repeat the padded spec_bw,spec_centroid and chroma stft until they are stft and MFCC-sized\n",
    "\n",
    "    image = np.append(image,padding(normalize(spec_bw),1, max_size), axis=0)\n",
    "    image = np.append(image, padding(normalize(spec_centroid),1, max_size), axis=0)\n",
    "    image = np.append(image, padding(normalize(chroma_stft),12, max_size), axis=0)\n",
    "    \n",
    "    image=np.dstack((image,np.abs(stft)))\n",
    "    image=np.dstack((image,MFCCs))\n",
    "    return image"
   ]
  },
  {
   "cell_type": "code",
   "execution_count": 188,
   "id": "25f98b2d",
   "metadata": {},
   "outputs": [],
   "source": [
    "import warnings\n",
    "warnings.simplefilter(action='ignore', category=UserWarning)"
   ]
  },
  {
   "cell_type": "code",
   "execution_count": 190,
   "id": "5e1d87dd",
   "metadata": {
    "scrolled": true
   },
   "outputs": [
    {
     "name": "stdout",
     "output_type": "stream",
     "text": [
      "0 / 46000\n",
      "1000 / 46000\n",
      "2000 / 46000\n",
      "3000 / 46000\n",
      "4000 / 46000\n",
      "5000 / 46000\n",
      "6000 / 46000\n",
      "7000 / 46000\n",
      "8000 / 46000\n",
      "9000 / 46000\n",
      "10000 / 46000\n",
      "11000 / 46000\n",
      "12000 / 46000\n",
      "13000 / 46000\n",
      "14000 / 46000\n",
      "15000 / 46000\n",
      "16000 / 46000\n",
      "17000 / 46000\n",
      "18000 / 46000\n",
      "19000 / 46000\n",
      "20000 / 46000\n",
      "21000 / 46000\n",
      "22000 / 46000\n",
      "23000 / 46000\n",
      "24000 / 46000\n",
      "25000 / 46000\n",
      "26000 / 46000\n",
      "27000 / 46000\n",
      "28000 / 46000\n",
      "29000 / 46000\n",
      "30000 / 46000\n",
      "31000 / 46000\n",
      "32000 / 46000\n",
      "33000 / 46000\n",
      "34000 / 46000\n",
      "35000 / 46000\n",
      "36000 / 46000\n",
      "37000 / 46000\n",
      "38000 / 46000\n",
      "39000 / 46000\n",
      "40000 / 46000\n",
      "41000 / 46000\n",
      "42000 / 46000\n",
      "43000 / 46000\n",
      "44000 / 46000\n",
      "45000 / 46000\n",
      "0 / 4600\n",
      "1000 / 4600\n",
      "2000 / 4600\n",
      "3000 / 4600\n",
      "4000 / 4600\n"
     ]
    }
   ],
   "source": [
    "dataset_pre = np.zeros((46000, 16, 256, 3))\n",
    "dataset_test_pre = np.zeros((4600, 16, 256, 3))\n",
    "for i, d in enumerate(dataset):\n",
    "    \n",
    "    if i%1000 == 0:\n",
    "        print(i, '/', len(dataset))\n",
    "    dataset_pre[i] = generate_custom_features(d)\n",
    "    \n",
    "for i, d in enumerate(test_dataset):\n",
    "    if i%1000 == 0:\n",
    "        print(i, '/', len(test_dataset))\n",
    "    dataset_test_pre[i] = generate_custom_features(d)"
   ]
  },
  {
   "cell_type": "code",
   "execution_count": 191,
   "id": "4bb45139",
   "metadata": {},
   "outputs": [
    {
     "data": {
      "text/plain": [
       "False"
      ]
     },
     "execution_count": 191,
     "metadata": {},
     "output_type": "execute_result"
    }
   ],
   "source": [
    "np.NaN in dataset_pre"
   ]
  },
  {
   "cell_type": "code",
   "execution_count": 199,
   "id": "1f841586",
   "metadata": {},
   "outputs": [],
   "source": [
    "np.save(\"dataset_pre.npy\", dataset_pre)\n",
    "np.save(\"dataset_test_pre.npy\", dataset_test_pre)\n",
    "np.save(\"dataset_pre_labels.npy\", labels)\n",
    "np.save(\"dataset_test_pre_labels.npy\", test_labels)"
   ]
  },
  {
   "cell_type": "code",
   "execution_count": 197,
   "id": "f462df64",
   "metadata": {},
   "outputs": [
    {
     "data": {
      "text/plain": [
       "23"
      ]
     },
     "execution_count": 197,
     "metadata": {},
     "output_type": "execute_result"
    }
   ],
   "source": [
    "n_labels = len(np.unique(labels))\n",
    "n_labels"
   ]
  },
  {
   "cell_type": "code",
   "execution_count": 198,
   "id": "112f9da1",
   "metadata": {},
   "outputs": [
    {
     "ename": "ModuleNotFoundError",
     "evalue": "No module named 'tensorflow'",
     "output_type": "error",
     "traceback": [
      "\u001b[1;31m---------------------------------------------------------------------------\u001b[0m",
      "\u001b[1;31mModuleNotFoundError\u001b[0m                       Traceback (most recent call last)",
      "Input \u001b[1;32mIn [198]\u001b[0m, in \u001b[0;36m<cell line: 1>\u001b[1;34m()\u001b[0m\n\u001b[1;32m----> 1\u001b[0m \u001b[38;5;28;01mfrom\u001b[39;00m \u001b[38;5;21;01mtensorflow\u001b[39;00m\u001b[38;5;21;01m.\u001b[39;00m\u001b[38;5;21;01mkeras\u001b[39;00m \u001b[38;5;28;01mimport\u001b[39;00m models, layers\n\u001b[0;32m      2\u001b[0m \u001b[38;5;28;01mimport\u001b[39;00m \u001b[38;5;21;01mtensorflow\u001b[39;00m \u001b[38;5;28;01mas\u001b[39;00m \u001b[38;5;21;01mtf\u001b[39;00m\n",
      "\u001b[1;31mModuleNotFoundError\u001b[0m: No module named 'tensorflow'"
     ]
    }
   ],
   "source": [
    "\n",
    "from tensorflow.keras import models, layers\n",
    "import tensorflow as tf"
   ]
  },
  {
   "cell_type": "code",
   "execution_count": 63,
   "id": "4ec4bc30",
   "metadata": {
    "scrolled": true
   },
   "outputs": [
    {
     "data": {
      "text/plain": [
       "array([[[0., 0., 0.],\n",
       "        [0., 0., 0.],\n",
       "        [0., 0., 0.],\n",
       "        ...,\n",
       "        [0., 0., 0.],\n",
       "        [0., 0., 0.],\n",
       "        [0., 0., 0.]],\n",
       "\n",
       "       [[0., 0., 0.],\n",
       "        [0., 0., 0.],\n",
       "        [0., 0., 0.],\n",
       "        ...,\n",
       "        [0., 0., 0.],\n",
       "        [0., 0., 0.],\n",
       "        [0., 0., 0.]],\n",
       "\n",
       "       [[0., 0., 0.],\n",
       "        [0., 0., 0.],\n",
       "        [0., 0., 0.],\n",
       "        ...,\n",
       "        [0., 0., 0.],\n",
       "        [0., 0., 0.],\n",
       "        [0., 0., 0.]],\n",
       "\n",
       "       ...,\n",
       "\n",
       "       [[0., 0., 0.],\n",
       "        [0., 0., 0.],\n",
       "        [0., 0., 0.],\n",
       "        ...,\n",
       "        [0., 0., 0.],\n",
       "        [0., 0., 0.],\n",
       "        [0., 0., 0.]],\n",
       "\n",
       "       [[0., 0., 0.],\n",
       "        [0., 0., 0.],\n",
       "        [0., 0., 0.],\n",
       "        ...,\n",
       "        [0., 0., 0.],\n",
       "        [0., 0., 0.],\n",
       "        [0., 0., 0.]],\n",
       "\n",
       "       [[0., 0., 0.],\n",
       "        [0., 0., 0.],\n",
       "        [0., 0., 0.],\n",
       "        ...,\n",
       "        [0., 0., 0.],\n",
       "        [0., 0., 0.],\n",
       "        [0., 0., 0.]]])"
      ]
     },
     "execution_count": 63,
     "metadata": {},
     "output_type": "execute_result"
    }
   ],
   "source": [
    "input_shape=(16,256,3)\n",
    "CNNmodel = models.Sequential()\n",
    "CNNmodel.add(layers.Conv2D(32, (3, 3), activation='relu', input_shape=input_shape))\n",
    "CNNmodel.add(layers.MaxPooling2D((2, 2)))\n",
    "CNNmodel.add(layers.Dropout(0.2))\n",
    "CNNmodel.add(layers.Conv2D(64, (3, 3), activation='relu'))\n",
    "CNNmodel.add(layers.MaxPooling2D((2, 2)))\n",
    "CNNmodel.add(layers.Dropout(0.2))\n",
    "CNNmodel.add(layers.Conv2D(64, (3, 3), activation='relu'))\n",
    "CNNmodel.add(layers.Flatten())\n",
    "CNNmodel.add(layers.Dense(64, activation='relu'))\n",
    "CNNmodel.add(layers.Dropout(0.2))\n",
    "CNNmodel.add(layers.Dense(32, activation='relu'))\n",
    "CNNmodel.add(layers.Dense(n_labels, activation='softmax'))"
   ]
  },
  {
   "cell_type": "code",
   "execution_count": null,
   "id": "2e3e989e",
   "metadata": {},
   "outputs": [],
   "source": [
    "history = CNNmodel.fit(X_train, y_train, epochs=20, validation_data= (X_val, y_val))"
   ]
  },
  {
   "cell_type": "code",
   "execution_count": 96,
   "id": "052c237d",
   "metadata": {},
   "outputs": [],
   "source": []
  },
  {
   "cell_type": "code",
   "execution_count": null,
   "id": "6300f25c",
   "metadata": {},
   "outputs": [],
   "source": []
  },
  {
   "cell_type": "code",
   "execution_count": 97,
   "id": "83b721bf",
   "metadata": {},
   "outputs": [
    {
     "data": {
      "text/plain": [
       "0.9360869565217391"
      ]
     },
     "execution_count": 97,
     "metadata": {},
     "output_type": "execute_result"
    }
   ],
   "source": [
    "from sklearn.metrics import accuracy_score\n",
    "y_pred = clf.predict(dataset_test_pre)\n",
    "\n",
    "accuracy_score(test_labels, y_pred)"
   ]
  },
  {
   "cell_type": "code",
   "execution_count": 101,
   "id": "34813135",
   "metadata": {},
   "outputs": [],
   "source": []
  },
  {
   "cell_type": "code",
   "execution_count": null,
   "id": "d854d388",
   "metadata": {},
   "outputs": [],
   "source": []
  }
 ],
 "metadata": {
  "kernelspec": {
   "display_name": "Python 3",
   "language": "python",
   "name": "python3"
  },
  "language_info": {
   "codemirror_mode": {
    "name": "ipython",
    "version": 3
   },
   "file_extension": ".py",
   "mimetype": "text/x-python",
   "name": "python",
   "nbconvert_exporter": "python",
   "pygments_lexer": "ipython3",
   "version": "3.6.8"
  }
 },
 "nbformat": 4,
 "nbformat_minor": 5
}
